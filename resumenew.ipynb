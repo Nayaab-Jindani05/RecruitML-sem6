{
 "cells": [
  {
   "cell_type": "code",
   "execution_count": 7,
   "id": "97d50242",
   "metadata": {},
   "outputs": [],
   "source": [
    "import os\n",
    "import re\n",
    "import fitz  # PyMuPDF\n",
    "import pandas as pd\n"
   ]
  },
  {
   "cell_type": "code",
   "execution_count": 8,
   "id": "db9e7f60",
   "metadata": {},
   "outputs": [],
   "source": [
    "COMMON_SKILLS = [\n",
    "    \"python\", \"java\", \"c++\", \"sql\", \"javascript\", \"html\", \"css\", \"machine learning\",\n",
    "    \"data science\", \"deep learning\", \"flask\", \"django\", \"react\", \"node.js\",\n",
    "    \"git\", \"linux\", \"aws\", \"azure\", \"docker\", \"kubernetes\", \"nlp\"\n",
    "]\n",
    "\n",
    "def extract_email(text):\n",
    "    match = re.search(r\"[a-zA-Z0-9_.+-]+@[a-zA-Z0-9-]+\\.[a-zA-Z0-9-.]+\", text)\n",
    "    return match.group(0) if match else None\n",
    "\n",
    "def extract_phone(text):\n",
    "    match = re.search(r\"(\\+?\\d{1,3}[-.\\s]?)?\\(?\\d{3}\\)?[-.\\s]?\\d{3}[-.\\s]?\\d{4}\", text)\n",
    "    return match.group(0) if match else None\n",
    "\n",
    "def extract_name(text):\n",
    "    lines = text.strip().split(\"\\n\")\n",
    "    for line in lines:\n",
    "        words = line.strip().split()\n",
    "        if len(words) >= 2 and all(w.istitle() for w in words[:2]):\n",
    "            return \" \".join(words[:2])\n",
    "    return None\n",
    "\n",
    "def extract_skills(text):\n",
    "    found_skills = []\n",
    "    text = text.lower()\n",
    "    for skill in COMMON_SKILLS:\n",
    "        if skill.lower() in text:\n",
    "            found_skills.append(skill)\n",
    "    return list(set(found_skills))\n",
    "\n",
    "def parse_resume(text):\n",
    "    return {\n",
    "        \"name\": extract_name(text),\n",
    "        \"email\": extract_email(text),\n",
    "        \"phone\": extract_phone(text),\n",
    "        \"skills\": extract_skills(text)\n",
    "    }\n"
   ]
  },
  {
   "cell_type": "code",
   "execution_count": 9,
   "id": "8c4cf840",
   "metadata": {},
   "outputs": [],
   "source": [
    "def extract_text_from_pdf(pdf_path):\n",
    "    text = \"\"\n",
    "    with fitz.open(pdf_path) as doc:\n",
    "        for page in doc:\n",
    "            text += page.get_text()\n",
    "    return text\n"
   ]
  },
  {
   "cell_type": "code",
   "execution_count": 10,
   "id": "d9aab4d3",
   "metadata": {},
   "outputs": [
    {
     "name": "stdout",
     "output_type": "stream",
     "text": [
      "✅ Parsed one resume and saved to resume_extracted_data.csv.\n"
     ]
    }
   ],
   "source": [
    "pdf_path = \"NayaabJindani_resume.pdf\"  # Replace with your actual file name\n",
    "text = extract_text_from_pdf(pdf_path)\n",
    "parsed = parse_resume(text)\n",
    "\n",
    "import pandas as pd\n",
    "df = pd.DataFrame([parsed])\n",
    "df[\"filename\"] = pdf_path\n",
    "df.to_csv(\"resume_extracted_data.csv\", index=False)\n",
    "print(\"✅ Parsed one resume and saved to resume_extracted_data.csv.\")\n"
   ]
  },
  {
   "cell_type": "code",
   "execution_count": null,
   "id": "f8509ec0",
   "metadata": {},
   "outputs": [],
   "source": []
  }
 ],
 "metadata": {
  "kernelspec": {
   "display_name": "base",
   "language": "python",
   "name": "python3"
  },
  "language_info": {
   "codemirror_mode": {
    "name": "ipython",
    "version": 3
   },
   "file_extension": ".py",
   "mimetype": "text/x-python",
   "name": "python",
   "nbconvert_exporter": "python",
   "pygments_lexer": "ipython3",
   "version": "3.12.7"
  }
 },
 "nbformat": 4,
 "nbformat_minor": 5
}
